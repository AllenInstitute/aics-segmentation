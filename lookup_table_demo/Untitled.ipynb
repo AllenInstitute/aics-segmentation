{
 "cells": [
  {
   "cell_type": "markdown",
   "metadata": {},
   "source": [
    "# part 1: comparion ves 2d and ves 3d"
   ]
  },
  {
   "cell_type": "code",
   "execution_count": 1,
   "metadata": {},
   "outputs": [
    {
     "name": "stderr",
     "output_type": "stream",
     "text": [
      "ImportError: No module named '_czifile'. Decoding of JXR and JPEG encoded images will not be available. Czifile.pyx can be obtained at http://www.lfd.uci.edu/~gohlke/\n"
     ]
    }
   ],
   "source": [
    "import numpy as np\n",
    "\n",
    "# package for 3d visualization\n",
    "from itkwidgets import view                              \n",
    "from aicssegmentation.core.visual import seg_fluo_side_by_side,  single_fluorescent_view, segmentation_quick_view\n",
    "import matplotlib.pyplot as plt\n",
    "plt.rcParams[\"figure.figsize\"] = [16, 12]\n",
    "\n",
    "# package for io \n",
    "from aicsimageio import AICSImage, omeTifWriter                            \n",
    "\n",
    "# function for core algorithm\n",
    "from aicssegmentation.core.vessel import vesselnessSliceBySlice, vesselness3D\n",
    "from aicssegmentation.pre_processing_utils import intensity_normalization, image_smoothing_gaussian_3d"
   ]
  },
  {
   "cell_type": "code",
   "execution_count": 2,
   "metadata": {},
   "outputs": [
    {
     "name": "stderr",
     "output_type": "stream",
     "text": [
      "Using a non-tuple sequence for multidimensional indexing is deprecated; use `arr[tuple(seq)]` instead of `arr[seq]`. In the future this will be interpreted as an array index, `arr[np.array(seq)]`, which will result either in an error or a different result.\n"
     ]
    }
   ],
   "source": [
    "FILE_NAME = '/allen/aics/assay-dev/Segmentation/documentation/toolkit_paper/structures/SEC61B/original/3500002119_100X_20180703_2r-Scene-04-P44-C06.czi'\n",
    "reader = AICSImage(FILE_NAME) \n",
    "IMG = reader.data"
   ]
  },
  {
   "cell_type": "code",
   "execution_count": 3,
   "metadata": {},
   "outputs": [
    {
     "name": "stdout",
     "output_type": "stream",
     "text": [
      "intensity normalization: normalize into [mean - 2.5 x std, mean + 7.5 x std] \n",
      "intensity normalization completes\n"
     ]
    }
   ],
   "source": [
    "################################\n",
    "## PARAMETERS for this step ##\n",
    "structure_channel = 3\n",
    "intensity_scaling_param = [2.5, 7.5]\n",
    "gaussian_smoothing_sigma = 1\n",
    "################################\n",
    "\n",
    "structure_img0 = IMG[0,structure_channel,:,:,:]\n",
    "\n",
    "# intensity normalization\n",
    "structure_img = intensity_normalization(structure_img0, scaling_param=intensity_scaling_param)\n",
    "\n",
    "# smoothing with 2d gaussian filter slice by slice \n",
    "sec = image_smoothing_gaussian_3d(structure_img, sigma=gaussian_smoothing_sigma)"
   ]
  },
  {
   "cell_type": "code",
   "execution_count": 4,
   "metadata": {},
   "outputs": [
    {
     "name": "stderr",
     "output_type": "stream",
     "text": [
      "Using a non-tuple sequence for multidimensional indexing is deprecated; use `arr[tuple(seq)]` instead of `arr[seq]`. In the future this will be interpreted as an array index, `arr[np.array(seq)]`, which will result either in an error or a different result.\n"
     ]
    }
   ],
   "source": [
    "vesselness_sigma = [1]\n",
    "sec_2d = vesselnessSliceBySlice(sec, sigmas=vesselness_sigma,  tau=1, whiteonblack=True)"
   ]
  },
  {
   "cell_type": "code",
   "execution_count": 5,
   "metadata": {},
   "outputs": [
    {
     "name": "stderr",
     "output_type": "stream",
     "text": [
      "Using a non-tuple sequence for multidimensional indexing is deprecated; use `arr[tuple(seq)]` instead of `arr[seq]`. In the future this will be interpreted as an array index, `arr[np.array(seq)]`, which will result either in an error or a different result.\n"
     ]
    }
   ],
   "source": [
    "sec_3d = vesselness3D(sec, sigmas=vesselness_sigma,  tau=1, whiteonblack=True)"
   ]
  },
  {
   "cell_type": "code",
   "execution_count": 6,
   "metadata": {},
   "outputs": [],
   "source": [
    "writer = omeTifWriter.OmeTifWriter('/allen/aics/assay-dev/Segmentation/documentation/toolkit_paper/sec_ves_3d.tiff')\n",
    "writer.save(sec_3d)"
   ]
  },
  {
   "cell_type": "code",
   "execution_count": 7,
   "metadata": {},
   "outputs": [],
   "source": [
    "writer = omeTifWriter.OmeTifWriter('/allen/aics/assay-dev/Segmentation/documentation/toolkit_paper/sec_ves_2d.tiff')\n",
    "writer.save(sec_2d)"
   ]
  },
  {
   "cell_type": "code",
   "execution_count": 8,
   "metadata": {},
   "outputs": [
    {
     "name": "stderr",
     "output_type": "stream",
     "text": [
      "Using a non-tuple sequence for multidimensional indexing is deprecated; use `arr[tuple(seq)]` instead of `arr[seq]`. In the future this will be interpreted as an array index, `arr[np.array(seq)]`, which will result either in an error or a different result.\n"
     ]
    },
    {
     "name": "stdout",
     "output_type": "stream",
     "text": [
      "(1, 7, 65, 624, 924)\n"
     ]
    }
   ],
   "source": [
    "FILE_NAME = '/allen/aics/assay-dev/Segmentation/documentation/toolkit_paper/structures/TUBA1B/original/3500002083_100X_20180611_5c-Scene-04-P21-D04.czi'\n",
    "reader = AICSImage(FILE_NAME) \n",
    "IMG = reader.data\n",
    "\n",
    "print(IMG.shape)"
   ]
  },
  {
   "cell_type": "code",
   "execution_count": 9,
   "metadata": {},
   "outputs": [
    {
     "name": "stdout",
     "output_type": "stream",
     "text": [
      "intensity normalization: normalize into [mean - 1.5 x std, mean + 8.0 x std] \n",
      "intensity normalization completes\n"
     ]
    }
   ],
   "source": [
    "################################\n",
    "## PARAMETERS for this step ##\n",
    "structure_channel = 3\n",
    "intensity_scaling_param = [1.5, 8.0]\n",
    "gaussian_smoothing_sigma = 1\n",
    "################################\n",
    "\n",
    "structure_img0 = IMG[0,structure_channel,:,:,:]\n",
    "\n",
    "# intensity normalization\n",
    "structure_img = intensity_normalization(structure_img0, scaling_param=intensity_scaling_param)\n",
    "\n",
    "# smoothing with 2d gaussian filter slice by slice \n",
    "tub = image_smoothing_gaussian_3d(structure_img, sigma=gaussian_smoothing_sigma)"
   ]
  },
  {
   "cell_type": "code",
   "execution_count": 10,
   "metadata": {},
   "outputs": [
    {
     "name": "stderr",
     "output_type": "stream",
     "text": [
      "Using a non-tuple sequence for multidimensional indexing is deprecated; use `arr[tuple(seq)]` instead of `arr[seq]`. In the future this will be interpreted as an array index, `arr[np.array(seq)]`, which will result either in an error or a different result.\n"
     ]
    }
   ],
   "source": [
    "vesselness_sigma = [1]\n",
    "tub_2d = vesselnessSliceBySlice(tub, sigmas=vesselness_sigma,  tau=1, whiteonblack=True)\n",
    "writer = omeTifWriter.OmeTifWriter('/allen/aics/assay-dev/Segmentation/documentation/toolkit_paper/tub_ves_2d.tiff')\n",
    "writer.save(tub_2d)\n",
    "tub_3d = vesselness3D(tub, sigmas=vesselness_sigma,  tau=1, whiteonblack=True)\n",
    "writer = omeTifWriter.OmeTifWriter('/allen/aics/assay-dev/Segmentation/documentation/toolkit_paper/tub_ves_3d.tiff')\n",
    "writer.save(tub_3d)"
   ]
  },
  {
   "cell_type": "code",
   "execution_count": null,
   "metadata": {},
   "outputs": [],
   "source": []
  }
 ],
 "metadata": {
  "kernelspec": {
   "display_name": "Python 3",
   "language": "python",
   "name": "python3"
  },
  "language_info": {
   "codemirror_mode": {
    "name": "ipython",
    "version": 3
   },
   "file_extension": ".py",
   "mimetype": "text/x-python",
   "name": "python",
   "nbconvert_exporter": "python",
   "pygments_lexer": "ipython3",
   "version": "3.6.6"
  }
 },
 "nbformat": 4,
 "nbformat_minor": 2
}
